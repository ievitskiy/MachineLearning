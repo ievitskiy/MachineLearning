{
 "cells": [
  {
   "cell_type": "code",
   "execution_count": 15,
   "id": "3f619552",
   "metadata": {},
   "outputs": [
    {
     "name": "stderr",
     "output_type": "stream",
     "text": [
      "C:\\Users\\79043\\AppData\\Local\\Temp\\ipykernel_25364\\1630292757.py:8: SettingWithCopyWarning: \n",
      "A value is trying to be set on a copy of a slice from a DataFrame\n",
      "\n",
      "See the caveats in the documentation: https://pandas.pydata.org/pandas-docs/stable/user_guide/indexing.html#returning-a-view-versus-a-copy\n",
      "  df['date'][i] = df['date'][i][0:8]\n"
     ]
    }
   ],
   "source": [
    "import pandas as pd\n",
    "# отображение таблицы\n",
    "df = pd.read_csv('../data/kc_house_data.csv', delimiter=',')\n",
    "df = df.drop(df.columns[[0]], axis = 1)\n",
    "s1 = df.date\n",
    "\n",
    "for i in range(len(df['date'])):\n",
    "    df['date'][i] = df['date'][i][0:8]\n",
    "df['date'] = df['date'].astype (int)"
   ]
  },
  {
   "cell_type": "code",
   "execution_count": null,
   "id": "c33e4eb8",
   "metadata": {
    "pycharm": {
     "name": "#%%\n"
    }
   },
   "outputs": [],
   "source": [
    "class LinearRegression:\n",
    "\n",
    "    def __init__(self, lr = 0.001, n_iters=1000):\n",
    "        self.lr = lr\n",
    "        self.n_iters = n_iters\n",
    "        self.weights = None\n",
    "        self.bias = None\n",
    "\n",
    "    def fit(self, X, y):\n",
    "        n_samples, n_features = X.shape\n",
    "        self.weights = np.zeros(n_features)\n",
    "        self.bias = 0\n",
    "\n",
    "        for _ in range(self.n_iters):\n",
    "            y_pred = np.dot(X, self.weights) + self.bias\n",
    "\n",
    "            dw = (1/n_samples) * np.dot(X.T, (y_pred-y))\n",
    "            db = (1/n_samples) * np.sum(y_pred-y)\n",
    "\n",
    "            self.weights = self.weights - self.lr * dw\n",
    "            self.bias = self.bias - self.lr * db\n",
    "\n",
    "    def predict(self, X):\n",
    "        y_pred = np.dot(X, self.weights) + self.bias\n",
    "        return y_pred"
   ]
  },
  {
   "cell_type": "code",
   "execution_count": null,
   "id": "6c97e889",
   "metadata": {
    "pycharm": {
     "name": "#%%\n"
    }
   },
   "outputs": [],
   "source": [
    "def MAE(y_test, y_predict):\n",
    "    return np.sum(abs(np.array(y_test)-np.array(y_predict)))/len(y_test)\n",
    "\n",
    "def MSE(y_test, y_predict):\n",
    "    return np.sum((np.array(y_test) - np.array(y_predict)) ** 2) / len(y_test)\n",
    "\n",
    "def RMSE(y_test, y_predict):\n",
    "    return sqrt(MSE(y_test, y_predict))\n",
    "\n",
    "def MAPE(y_test, y_predict):\n",
    "    return np.mean(abs((np.array(y_test) - np.array(y_predict)) / np.array(y_test)))\n",
    "\n",
    "def R2(y_test, y_predict):\n",
    "    return 1 - (MSE(y_test, y_predict) * len(y_test) / (np.sum((np.array(y_test) - np.array(y_test).mean()) ** 2) ))\n",
    "\n",
    "def maee(y_test, y_pred):\n",
    "    return np.mean(abs(y_test-y_pred))"
   ]
  },
  {
   "cell_type": "code",
   "execution_count": null,
   "id": "a0fd63a4",
   "metadata": {},
   "outputs": [],
   "source": [
    "# проверка на пустые значения\n",
    "# missing_data = df.isnull()\n",
    "# for column in missing_data.columns.values.tolist():\n",
    "#     print(column)\n",
    "#     print(missing_data[column].value_counts())\n",
    "#     print(\" \")\n",
    "# df.isnull().sum()"
   ]
  },
  {
   "cell_type": "markdown",
   "id": "4c6cbb7e",
   "metadata": {},
   "source": []
  },
  {
   "cell_type": "code",
   "execution_count": null,
   "id": "d1ccfd2d",
   "metadata": {
    "pycharm": {
     "name": "#%%\n"
    }
   },
   "outputs": [],
   "source": [
    "from sklearn.model_selection import train_test_split\n",
    "y = df[\"price\"]\n",
    "X = df.drop([\"price\"], axis=1)\n",
    "X_train, X_test, y_train, y_test = train_test_split(X, y, test_size=0.2)"
   ]
  },
  {
   "cell_type": "code",
   "execution_count": null,
   "id": "cda96999",
   "metadata": {
    "pycharm": {
     "name": "#%%\n"
    }
   },
   "outputs": [],
   "source": [
    "from math import sqrt\n",
    "import numpy as np\n",
    "\n",
    "reg = LinearRegression()\n",
    "reg.fit(X_train, y_train)\n",
    "predictions = reg.predict(X_test)\n",
    "\n",
    "mse = MSE(y_test, predictions)\n",
    "r2 = R2(y_test, predictions)\n",
    "\n",
    "print(f'MAE: {MAE(y_test, predictions)}')\n",
    "print(f'MSE: {MSE(y_test, predictions)}')\n",
    "print(f'RMSE: {sqrt(MSE(y_test, predictions))}')\n",
    "print(f'MAPE: {sqrt(MAPE(y_test, predictions))}')\n",
    "print(f'R^2: {R2(y_test, predictions)}')"
   ]
  },
  {
   "cell_type": "markdown",
   "id": "d709d68a",
   "metadata": {},
   "source": []
  },
  {
   "cell_type": "code",
   "execution_count": null,
   "id": "36a3cd00",
   "metadata": {
    "pycharm": {
     "name": "#%%\n"
    }
   },
   "outputs": [],
   "source": [
    "y = df[\"price\"]\n",
    "X = df.drop([\"price\"], axis=1)\n",
    "X_train, X_test, y_train, y_test = train_test_split(X, y, test_size=0.2)"
   ]
  },
  {
   "cell_type": "code",
   "execution_count": null,
   "id": "cb3238f8",
   "metadata": {
    "pycharm": {
     "name": "#%%\n"
    }
   },
   "outputs": [],
   "source": [
    "from sklearn.linear_model import LinearRegression, Lasso, Ridge\n",
    "\n",
    "\n",
    "lr = LinearRegression().fit(X_train, y_train)\n",
    "lr.predict(X_test)"
   ]
  },
  {
   "cell_type": "code",
   "execution_count": null,
   "id": "2a8d478a",
   "metadata": {
    "pycharm": {
     "name": "#%%\n"
    }
   },
   "outputs": [],
   "source": [
    "y_pred = lr.predict(X_test)\n",
    "print(f'MAE: {MAE(y_test, y_pred)}')\n",
    "print(f'MSE: {MSE(y_test, y_pred)}')\n",
    "print(f'RMSE: {sqrt(MSE(y_test, y_pred))}')\n",
    "print(f'MAPE: {sqrt(MAPE(y_test, y_pred))}')\n",
    "print(f'R^2: {R2(y_test, y_pred)}')"
   ]
  },
  {
   "cell_type": "code",
   "execution_count": null,
   "id": "8c2ff807",
   "metadata": {
    "pycharm": {
     "name": "#%%\n"
    }
   },
   "outputs": [],
   "source": [
    "# L1\n",
    "ridge = Ridge(alpha=0.4).fit(X_train, y_train)\n",
    "y_pred = ridge.predict(X_test)\n",
    "print(y_pred, type(y_pred))\n",
    "print(f'MAE: {MAE(y_test, y_pred)}')\n",
    "print(f'MSE: {MSE(y_test, y_pred)}')\n",
    "print(f'RMSE: {sqrt(MSE(y_test, y_pred))}')\n",
    "print(f'MAPE: {sqrt(MAPE(y_test, y_pred))}')\n",
    "print(f'R^2: {R2(y_test, y_pred)}')\n",
    "# print(f'R^2: {ridge.score(X_test, y_test)}')"
   ]
  },
  {
   "cell_type": "code",
   "execution_count": 25,
   "id": "6c7dd453",
   "metadata": {
    "pycharm": {
     "name": "#%%\n"
    }
   },
   "outputs": [
    {
     "name": "stdout",
     "output_type": "stream",
     "text": [
      "MAE: 124582.51378229522\n",
      "MSE: 38495212842.14406\n",
      "RMSE: 196201.96951647568\n",
      "MAPE: 0.5052512750906382\n",
      "R^2: 0.6970908143570018\n"
     ]
    },
    {
     "name": "stderr",
     "output_type": "stream",
     "text": [
      "c:\\users\\79043\\desktop\\machlearn\\venv\\lib\\site-packages\\sklearn\\linear_model\\_coordinate_descent.py:631: ConvergenceWarning: Objective did not converge. You might want to increase the number of iterations, check the scale of the features or consider increasing regularisation. Duality gap: 3.176e+14, tolerance: 2.364e+11\n",
      "  model = cd_fast.enet_coordinate_descent(\n"
     ]
    }
   ],
   "source": [
    "# L2\n",
    "lasso = Lasso(alpha=0.4).fit(X_train, y_train)\n",
    "y_pred = lasso.predict(X_test)\n",
    "print(f'MAE: {MAE(y_test, y_pred)}')\n",
    "print(f'MSE: {MSE(y_test, y_pred)}')\n",
    "print(f'RMSE: {sqrt(MSE(y_test, y_pred))}')\n",
    "print(f'MAPE: {sqrt(MAPE(y_test, y_pred))}')\n",
    "print(f'R^2: {R2(y_test, y_pred)}')\n",
    "# print(f'R^2: {lasso.score(X_test, y_test)}')"
   ]
  },
  {
   "cell_type": "code",
   "execution_count": 26,
   "id": "c95b5f20",
   "metadata": {
    "pycharm": {
     "name": "#%%\n"
    }
   },
   "outputs": [
    {
     "name": "stderr",
     "output_type": "stream",
     "text": [
      "c:\\users\\79043\\desktop\\machlearn\\venv\\lib\\site-packages\\sklearn\\linear_model\\_ridge.py:216: LinAlgWarning: Ill-conditioned matrix (rcond=5.06193e-21): result may not be accurate.\n",
      "  return linalg.solve(A, Xy, assume_a=\"pos\", overwrite_a=True).T\n",
      "c:\\users\\79043\\desktop\\machlearn\\venv\\lib\\site-packages\\sklearn\\linear_model\\_ridge.py:216: LinAlgWarning: Ill-conditioned matrix (rcond=1.56208e-20): result may not be accurate.\n",
      "  return linalg.solve(A, Xy, assume_a=\"pos\", overwrite_a=True).T\n"
     ]
    },
    {
     "data": {
      "text/plain": [
       "{'alpha': 0.7000000000000001}"
      ]
     },
     "execution_count": 26,
     "metadata": {},
     "output_type": "execute_result"
    }
   ],
   "source": [
    "from sklearn.model_selection import GridSearchCV, RandomizedSearchCV\n",
    "import numpy as np\n",
    "\n",
    "\n",
    "parameters = {'alpha': np.arange(0, 1, 0.1)}\n",
    "ridge_optimal = GridSearchCV(Ridge(), parameters).fit(X_train, y_train)\n",
    "ridge_optimal.best_params_"
   ]
  },
  {
   "cell_type": "code",
   "execution_count": 27,
   "id": "94bc5b33",
   "metadata": {
    "pycharm": {
     "name": "#%%\n"
    }
   },
   "outputs": [],
   "source": [
    "y = df[\"price\"]\n",
    "X = df.drop([\"price\"], axis=1)\n",
    "X_train, X_test, y_train, y_test = train_test_split(X, y, test_size=0.2)"
   ]
  },
  {
   "cell_type": "code",
   "execution_count": null,
   "id": "eba66271",
   "metadata": {
    "pycharm": {
     "name": "#%%\n"
    }
   },
   "outputs": [
    {
     "name": "stdout",
     "output_type": "stream",
     "text": [
      "MAE: 97608.54508122778\n",
      "MSE: 22785276917.492218\n",
      "RMSE: 150947.92783437678\n",
      "MAPE: 0.44681546618270346\n",
      "R^2: 0.8309398344452026\n",
      "R^2: 0.8309398344452026\n",
      "\n",
      "\n"
     ]
    }
   ],
   "source": [
    "from sklearn.preprocessing import PolynomialFeatures\n",
    "\n",
    "\n",
    "pf = PolynomialFeatures(degree=2)\n",
    "xp = pf.fit_transform(X)\n",
    "\n",
    "lr2 = LinearRegression().fit(xp, y)\n",
    "\n",
    "ridge = Ridge(alpha=0.4).fit(xp, y)\n",
    "y_pred = ridge.predict(xp)\n",
    "print(f'MAE: {MAE(y, y_pred)}')\n",
    "print(f'MSE: {MSE(y, y_pred)}')\n",
    "print(f'RMSE: {sqrt(MSE(y, y_pred))}')\n",
    "print(f'MAPE: {sqrt(MAPE(y, y_pred))}')\n",
    "print(f'R^2: {R2(y, y_pred)}')\n",
    "print(f'R^2: {ridge.score(xp, y)}')\n",
    "\n",
    "print()\n",
    "print()\n",
    "\n",
    "lasso = Lasso(alpha=0.4).fit(xp, y)\n",
    "y_pred = lasso.predict(xp)\n",
    "print(f'MAE: {MAE(y, y_pred)}')\n",
    "print(f'MSE: {MSE(y, y_pred)}')\n",
    "print(f'RMSE: {sqrt(MSE(y, y_pred))}')\n",
    "print(f'MAPE: {sqrt(MAPE(y, y_pred))}')\n",
    "print(f'R^2: {R2(y, y_pred)}')\n",
    "print(f'R^2: {lasso.score(xp, y)}')\n",
    "\n",
    "print(lr2.score(xp, y))"
   ]
  }
 ],
 "metadata": {
  "kernelspec": {
   "display_name": "Python 3 (ipykernel)",
   "language": "python",
   "name": "python3"
  },
  "language_info": {
   "codemirror_mode": {
    "name": "ipython",
    "version": 3
   },
   "file_extension": ".py",
   "mimetype": "text/x-python",
   "name": "python",
   "nbconvert_exporter": "python",
   "pygments_lexer": "ipython3",
   "version": "3.9.5"
  }
 },
 "nbformat": 4,
 "nbformat_minor": 5
}